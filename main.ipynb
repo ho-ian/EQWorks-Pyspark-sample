{
 "cells": [
  {
   "cell_type": "code",
   "execution_count": 28,
   "id": "0e88bd07",
   "metadata": {},
   "outputs": [],
   "source": [
    "import os\n",
    "from pyspark.sql import SparkSession\n",
    "from pyspark.sql import functions as F"
   ]
  },
  {
   "cell_type": "code",
   "execution_count": 29,
   "id": "d141b4ac",
   "metadata": {},
   "outputs": [
    {
     "name": "stdout",
     "output_type": "stream",
     "text": [
      "root\n",
      " |-- _ID: integer (nullable = true)\n",
      " |-- TimeSt: string (nullable = true)\n",
      " |-- Country: string (nullable = true)\n",
      " |-- Province: string (nullable = true)\n",
      " |-- City: string (nullable = true)\n",
      " |-- Latitude: double (nullable = true)\n",
      " |-- Longitude: double (nullable = true)\n",
      "\n"
     ]
    }
   ],
   "source": [
    "spark = SparkSession.builder.master('local').getOrCreate()\n",
    "df = spark.read.options(\n",
    "    header='True',\n",
    "    inferSchema='True',\n",
    "    delimiter=',',\n",
    ").csv(os.path.expanduser('~/data/DataSample.csv'))\n",
    "df = df.select([F.col(col).alias(col.replace(' ', '')) for col in df.columns])\n",
    "df.printSchema()"
   ]
  },
  {
   "cell_type": "code",
   "execution_count": 30,
   "id": "03f4a34e",
   "metadata": {},
   "outputs": [
    {
     "name": "stdout",
     "output_type": "stream",
     "text": [
      "root\n",
      " |-- POIID: string (nullable = true)\n",
      " |-- Latitude: double (nullable = true)\n",
      " |-- Longitude: double (nullable = true)\n",
      "\n"
     ]
    }
   ],
   "source": [
    "poi = spark.read.options(\n",
    "    header='True',\n",
    "    inferSchema='True',\n",
    "    delimiter=',',\n",
    ").csv(os.path.expanduser('~/data/POIList.csv'))\n",
    "poi = poi.select([F.col(col).alias(col.replace(' ', '')) for col in poi.columns])\n",
    "poi.printSchema()"
   ]
  },
  {
   "cell_type": "code",
   "execution_count": 31,
   "id": "083e0e17",
   "metadata": {},
   "outputs": [
    {
     "name": "stdout",
     "output_type": "stream",
     "text": [
      "+-------+--------------------+-------+--------+------------+--------+---------+\n",
      "|    _ID|              TimeSt|Country|Province|        City|Latitude|Longitude|\n",
      "+-------+--------------------+-------+--------+------------+--------+---------+\n",
      "|4516516|2017-06-21 00:00:...|     CA|      ON|    Waterloo|43.49347|-80.49123|\n",
      "|4516547|2017-06-21 18:00:...|     CA|      ON|      London| 42.9399| -81.2709|\n",
      "|4516550|2017-06-21 15:00:...|     CA|      ON|      Guelph| 43.5776| -80.2201|\n",
      "|4516600|2017-06-21 15:00:...|     CA|      ON|   Stratford| 43.3716| -80.9773|\n",
      "|4516613|2017-06-21 15:00:...|     CA|      ON|   Stratford| 43.3716| -80.9773|\n",
      "|4516693|2017-06-21 14:00:...|     CA|      ON|   Kitchener| 43.4381| -80.5099|\n",
      "|4516771|2017-06-21 10:00:...|     CA|      ON|      Sarnia|  42.961|  -82.373|\n",
      "|4516831|2017-06-21 12:00:...|     CA|      ON|      London| 43.0091| -81.1765|\n",
      "|4516915|2017-06-21 15:00:...|     CA|      ON|      London| 43.0091| -81.1765|\n",
      "|4516953|2017-06-21 16:00:...|     CA|      ON|   Kitchener| 43.4278| -80.5135|\n",
      "|4516966|2017-06-21 01:00:...|     CA|      ON|   Kitchener| 43.4381| -80.5099|\n",
      "|4517044|2017-06-21 21:00:...|     CA|      ON|     Windsor| 42.2825| -83.0372|\n",
      "|4517047|2017-06-21 12:00:...|     CA|      ON|      London| 43.0091| -81.1765|\n",
      "|4517081|2017-06-21 22:00:...|     CA|      ON|     Windsor|42.24397|-82.98058|\n",
      "|4517175|2017-06-21 19:00:...|     CA|      ON|Saint Thomas| 42.7792| -81.1927|\n",
      "|4517220|2017-06-21 18:00:...|     CA|      ON|    Waterloo| 43.4634| -80.5201|\n",
      "|4517250|2017-06-21 03:00:...|     CA|      ON|     Chatham| 42.4247| -82.1755|\n",
      "|4517303|2017-06-21 03:00:...|     CA|      ON|     Windsor| 42.2957| -82.9599|\n",
      "|4517326|2017-06-21 04:00:...|     CA|      ON|      Guelph| 43.5425| -80.2676|\n",
      "|4517347|2017-06-21 03:00:...|     CA|      ON|     Windsor| 42.2957| -82.9599|\n",
      "+-------+--------------------+-------+--------+------------+--------+---------+\n",
      "only showing top 20 rows\n",
      "\n",
      "+-----+---------+-----------+\n",
      "|POIID| Latitude|  Longitude|\n",
      "+-----+---------+-----------+\n",
      "| POI1|53.546167|-113.485734|\n",
      "| POI2|53.546167|-113.485734|\n",
      "| POI3|45.521629| -73.566024|\n",
      "| POI4| 45.22483| -63.232729|\n",
      "+-----+---------+-----------+\n",
      "\n"
     ]
    }
   ],
   "source": [
    "df.show()\n",
    "poi.show()"
   ]
  },
  {
   "cell_type": "code",
   "execution_count": 32,
   "id": "830acdf2",
   "metadata": {},
   "outputs": [
    {
     "data": {
      "text/plain": [
       "22025"
      ]
     },
     "execution_count": 32,
     "metadata": {},
     "output_type": "execute_result"
    }
   ],
   "source": [
    "df.count()"
   ]
  },
  {
   "cell_type": "markdown",
   "id": "a3c2f02e",
   "metadata": {},
   "source": [
    "# 1. Cleanup\n",
    "\n",
    "removing duplicate entries via timest, latitude, longitude"
   ]
  },
  {
   "cell_type": "code",
   "execution_count": 33,
   "id": "520ca6d1",
   "metadata": {},
   "outputs": [],
   "source": [
    "df = df.dropDuplicates(['TimeSt', 'Latitude', 'Longitude'])"
   ]
  },
  {
   "cell_type": "code",
   "execution_count": 34,
   "id": "aa8e54be",
   "metadata": {},
   "outputs": [
    {
     "data": {
      "text/plain": [
       "19999"
      ]
     },
     "execution_count": 34,
     "metadata": {},
     "output_type": "execute_result"
    }
   ],
   "source": [
    "df.count()"
   ]
  },
  {
   "cell_type": "markdown",
   "id": "9b4a474d",
   "metadata": {},
   "source": [
    "# 2. Label\n",
    "\n",
    "assigning closest poi to each entry."
   ]
  },
  {
   "cell_type": "code",
   "execution_count": 35,
   "id": "eb6b93fd",
   "metadata": {},
   "outputs": [],
   "source": [
    "from geopy import distance"
   ]
  },
  {
   "cell_type": "code",
   "execution_count": 37,
   "id": "03673846",
   "metadata": {},
   "outputs": [],
   "source": [
    "df = df.crossJoin(poi.withColumnRenamed('Latitude', 'lat').withColumnRenamed('Longitude', 'lon'))"
   ]
  },
  {
   "cell_type": "code",
   "execution_count": 38,
   "id": "c24fe386",
   "metadata": {},
   "outputs": [
    {
     "name": "stdout",
     "output_type": "stream",
     "text": [
      "+-------+--------------------+-------+--------+---------+--------+---------+-----+---------+-----------+\n",
      "|    _ID|              TimeSt|Country|Province|     City|Latitude|Longitude|POIID|      lat|        lon|\n",
      "+-------+--------------------+-------+--------+---------+--------+---------+-----+---------+-----------+\n",
      "|5613403|2017-06-21 00:22:...|     CA|      ON|Etobicoke| 43.6381| -79.5787| POI1|53.546167|-113.485734|\n",
      "|5613403|2017-06-21 00:22:...|     CA|      ON|Etobicoke| 43.6381| -79.5787| POI2|53.546167|-113.485734|\n",
      "|5613403|2017-06-21 00:22:...|     CA|      ON|Etobicoke| 43.6381| -79.5787| POI3|45.521629| -73.566024|\n",
      "|5613403|2017-06-21 00:22:...|     CA|      ON|Etobicoke| 43.6381| -79.5787| POI4| 45.22483| -63.232729|\n",
      "|5013924|2017-06-21 00:34:...|     CA|      ON|  Toronto| 43.6606| -79.4635| POI1|53.546167|-113.485734|\n",
      "|5013924|2017-06-21 00:34:...|     CA|      ON|  Toronto| 43.6606| -79.4635| POI2|53.546167|-113.485734|\n",
      "|5013924|2017-06-21 00:34:...|     CA|      ON|  Toronto| 43.6606| -79.4635| POI3|45.521629| -73.566024|\n",
      "|5013924|2017-06-21 00:34:...|     CA|      ON|  Toronto| 43.6606| -79.4635| POI4| 45.22483| -63.232729|\n",
      "|5122425|2017-06-21 00:42:...|     CA|      AB|  Calgary| 51.1188|-113.9471| POI1|53.546167|-113.485734|\n",
      "|5122425|2017-06-21 00:42:...|     CA|      AB|  Calgary| 51.1188|-113.9471| POI2|53.546167|-113.485734|\n",
      "|5122425|2017-06-21 00:42:...|     CA|      AB|  Calgary| 51.1188|-113.9471| POI3|45.521629| -73.566024|\n",
      "|5122425|2017-06-21 00:42:...|     CA|      AB|  Calgary| 51.1188|-113.9471| POI4| 45.22483| -63.232729|\n",
      "|4571908|2017-06-21 01:01:...|     CA|      AB|  Calgary| 51.0876|-114.0214| POI1|53.546167|-113.485734|\n",
      "|4571908|2017-06-21 01:01:...|     CA|      AB|  Calgary| 51.0876|-114.0214| POI2|53.546167|-113.485734|\n",
      "|4571908|2017-06-21 01:01:...|     CA|      AB|  Calgary| 51.0876|-114.0214| POI3|45.521629| -73.566024|\n",
      "|4571908|2017-06-21 01:01:...|     CA|      AB|  Calgary| 51.0876|-114.0214| POI4| 45.22483| -63.232729|\n",
      "|5447065|2017-06-21 01:08:...|     CA|      ON|  Toronto|43.66341|-79.38597| POI1|53.546167|-113.485734|\n",
      "|5447065|2017-06-21 01:08:...|     CA|      ON|  Toronto|43.66341|-79.38597| POI2|53.546167|-113.485734|\n",
      "|5447065|2017-06-21 01:08:...|     CA|      ON|  Toronto|43.66341|-79.38597| POI3|45.521629| -73.566024|\n",
      "|5447065|2017-06-21 01:08:...|     CA|      ON|  Toronto|43.66341|-79.38597| POI4| 45.22483| -63.232729|\n",
      "+-------+--------------------+-------+--------+---------+--------+---------+-----+---------+-----------+\n",
      "only showing top 20 rows\n",
      "\n"
     ]
    }
   ],
   "source": [
    "df.show()"
   ]
  },
  {
   "cell_type": "code",
   "execution_count": 40,
   "id": "b1478d64",
   "metadata": {},
   "outputs": [
    {
     "ename": "ValueError",
     "evalue": "could not convert string to float: 'Latitude'",
     "output_type": "error",
     "traceback": [
      "\u001b[0;31m---------------------------------------------------------------------------\u001b[0m",
      "\u001b[0;31mValueError\u001b[0m                                Traceback (most recent call last)",
      "\u001b[0;32m<ipython-input-40-662d4d669ba4>\u001b[0m in \u001b[0;36m<module>\u001b[0;34m\u001b[0m\n\u001b[0;32m----> 1\u001b[0;31m \u001b[0mdf\u001b[0m\u001b[0;34m.\u001b[0m\u001b[0mwithColumn\u001b[0m\u001b[0;34m(\u001b[0m\u001b[0;34m\"distance\"\u001b[0m\u001b[0;34m,\u001b[0m \u001b[0mdistance\u001b[0m\u001b[0;34m.\u001b[0m\u001b[0mdistance\u001b[0m\u001b[0;34m(\u001b[0m\u001b[0;34m(\u001b[0m\u001b[0;34m'Latitude'\u001b[0m\u001b[0;34m,\u001b[0m \u001b[0;34m'Longitude'\u001b[0m\u001b[0;34m)\u001b[0m\u001b[0;34m,\u001b[0m \u001b[0;34m(\u001b[0m\u001b[0;34m'lat'\u001b[0m\u001b[0;34m,\u001b[0m \u001b[0;34m'lon'\u001b[0m\u001b[0;34m)\u001b[0m\u001b[0;34m)\u001b[0m\u001b[0;34m.\u001b[0m\u001b[0mkm\u001b[0m\u001b[0;34m)\u001b[0m\u001b[0;34m.\u001b[0m\u001b[0mshow\u001b[0m\u001b[0;34m(\u001b[0m\u001b[0;34m)\u001b[0m\u001b[0;34m\u001b[0m\u001b[0;34m\u001b[0m\u001b[0m\n\u001b[0m",
      "\u001b[0;32m/opt/conda/lib/python3.9/site-packages/geopy/distance.py\u001b[0m in \u001b[0;36m__init__\u001b[0;34m(self, *args, **kwargs)\u001b[0m\n\u001b[1;32m    414\u001b[0m         \u001b[0mself\u001b[0m\u001b[0;34m.\u001b[0m\u001b[0mset_ellipsoid\u001b[0m\u001b[0;34m(\u001b[0m\u001b[0mkwargs\u001b[0m\u001b[0;34m.\u001b[0m\u001b[0mpop\u001b[0m\u001b[0;34m(\u001b[0m\u001b[0;34m'ellipsoid'\u001b[0m\u001b[0;34m,\u001b[0m \u001b[0;34m'WGS-84'\u001b[0m\u001b[0;34m)\u001b[0m\u001b[0;34m)\u001b[0m\u001b[0;34m\u001b[0m\u001b[0;34m\u001b[0m\u001b[0m\n\u001b[1;32m    415\u001b[0m         \u001b[0mmajor\u001b[0m\u001b[0;34m,\u001b[0m \u001b[0mminor\u001b[0m\u001b[0;34m,\u001b[0m \u001b[0mf\u001b[0m \u001b[0;34m=\u001b[0m \u001b[0mself\u001b[0m\u001b[0;34m.\u001b[0m\u001b[0mELLIPSOID\u001b[0m\u001b[0;34m\u001b[0m\u001b[0;34m\u001b[0m\u001b[0m\n\u001b[0;32m--> 416\u001b[0;31m         \u001b[0msuper\u001b[0m\u001b[0;34m(\u001b[0m\u001b[0;34m)\u001b[0m\u001b[0;34m.\u001b[0m\u001b[0m__init__\u001b[0m\u001b[0;34m(\u001b[0m\u001b[0;34m*\u001b[0m\u001b[0margs\u001b[0m\u001b[0;34m,\u001b[0m \u001b[0;34m**\u001b[0m\u001b[0mkwargs\u001b[0m\u001b[0;34m)\u001b[0m\u001b[0;34m\u001b[0m\u001b[0;34m\u001b[0m\u001b[0m\n\u001b[0m\u001b[1;32m    417\u001b[0m \u001b[0;34m\u001b[0m\u001b[0m\n\u001b[1;32m    418\u001b[0m     \u001b[0;32mdef\u001b[0m \u001b[0mset_ellipsoid\u001b[0m\u001b[0;34m(\u001b[0m\u001b[0mself\u001b[0m\u001b[0;34m,\u001b[0m \u001b[0mellipsoid\u001b[0m\u001b[0;34m)\u001b[0m\u001b[0;34m:\u001b[0m\u001b[0;34m\u001b[0m\u001b[0;34m\u001b[0m\u001b[0m\n",
      "\u001b[0;32m/opt/conda/lib/python3.9/site-packages/geopy/distance.py\u001b[0m in \u001b[0;36m__init__\u001b[0;34m(self, *args, **kwargs)\u001b[0m\n\u001b[1;32m    198\u001b[0m         \u001b[0;32melif\u001b[0m \u001b[0mlen\u001b[0m\u001b[0;34m(\u001b[0m\u001b[0margs\u001b[0m\u001b[0;34m)\u001b[0m \u001b[0;34m>\u001b[0m \u001b[0;36m1\u001b[0m\u001b[0;34m:\u001b[0m\u001b[0;34m\u001b[0m\u001b[0;34m\u001b[0m\u001b[0m\n\u001b[1;32m    199\u001b[0m             \u001b[0;32mfor\u001b[0m \u001b[0ma\u001b[0m\u001b[0;34m,\u001b[0m \u001b[0mb\u001b[0m \u001b[0;32min\u001b[0m \u001b[0mutil\u001b[0m\u001b[0;34m.\u001b[0m\u001b[0mpairwise\u001b[0m\u001b[0;34m(\u001b[0m\u001b[0margs\u001b[0m\u001b[0;34m)\u001b[0m\u001b[0;34m:\u001b[0m\u001b[0;34m\u001b[0m\u001b[0;34m\u001b[0m\u001b[0m\n\u001b[0;32m--> 200\u001b[0;31m                 \u001b[0mkilometers\u001b[0m \u001b[0;34m+=\u001b[0m \u001b[0mself\u001b[0m\u001b[0;34m.\u001b[0m\u001b[0mmeasure\u001b[0m\u001b[0;34m(\u001b[0m\u001b[0ma\u001b[0m\u001b[0;34m,\u001b[0m \u001b[0mb\u001b[0m\u001b[0;34m)\u001b[0m\u001b[0;34m\u001b[0m\u001b[0;34m\u001b[0m\u001b[0m\n\u001b[0m\u001b[1;32m    201\u001b[0m \u001b[0;34m\u001b[0m\u001b[0m\n\u001b[1;32m    202\u001b[0m         \u001b[0mkilometers\u001b[0m \u001b[0;34m+=\u001b[0m \u001b[0munits\u001b[0m\u001b[0;34m.\u001b[0m\u001b[0mkilometers\u001b[0m\u001b[0;34m(\u001b[0m\u001b[0;34m**\u001b[0m\u001b[0mkwargs\u001b[0m\u001b[0;34m)\u001b[0m\u001b[0;34m\u001b[0m\u001b[0;34m\u001b[0m\u001b[0m\n",
      "\u001b[0;32m/opt/conda/lib/python3.9/site-packages/geopy/distance.py\u001b[0m in \u001b[0;36mmeasure\u001b[0;34m(self, a, b)\u001b[0m\n\u001b[1;32m    434\u001b[0m     \u001b[0;31m# Call geographiclib routines for measure and destination\u001b[0m\u001b[0;34m\u001b[0m\u001b[0;34m\u001b[0m\u001b[0;34m\u001b[0m\u001b[0m\n\u001b[1;32m    435\u001b[0m     \u001b[0;32mdef\u001b[0m \u001b[0mmeasure\u001b[0m\u001b[0;34m(\u001b[0m\u001b[0mself\u001b[0m\u001b[0;34m,\u001b[0m \u001b[0ma\u001b[0m\u001b[0;34m,\u001b[0m \u001b[0mb\u001b[0m\u001b[0;34m)\u001b[0m\u001b[0;34m:\u001b[0m\u001b[0;34m\u001b[0m\u001b[0;34m\u001b[0m\u001b[0m\n\u001b[0;32m--> 436\u001b[0;31m         \u001b[0ma\u001b[0m\u001b[0;34m,\u001b[0m \u001b[0mb\u001b[0m \u001b[0;34m=\u001b[0m \u001b[0mPoint\u001b[0m\u001b[0;34m(\u001b[0m\u001b[0ma\u001b[0m\u001b[0;34m)\u001b[0m\u001b[0;34m,\u001b[0m \u001b[0mPoint\u001b[0m\u001b[0;34m(\u001b[0m\u001b[0mb\u001b[0m\u001b[0;34m)\u001b[0m\u001b[0;34m\u001b[0m\u001b[0;34m\u001b[0m\u001b[0m\n\u001b[0m\u001b[1;32m    437\u001b[0m         \u001b[0m_ensure_same_altitude\u001b[0m\u001b[0;34m(\u001b[0m\u001b[0ma\u001b[0m\u001b[0;34m,\u001b[0m \u001b[0mb\u001b[0m\u001b[0;34m)\u001b[0m\u001b[0;34m\u001b[0m\u001b[0;34m\u001b[0m\u001b[0m\n\u001b[1;32m    438\u001b[0m         \u001b[0mlat1\u001b[0m\u001b[0;34m,\u001b[0m \u001b[0mlon1\u001b[0m \u001b[0;34m=\u001b[0m \u001b[0ma\u001b[0m\u001b[0;34m.\u001b[0m\u001b[0mlatitude\u001b[0m\u001b[0;34m,\u001b[0m \u001b[0ma\u001b[0m\u001b[0;34m.\u001b[0m\u001b[0mlongitude\u001b[0m\u001b[0;34m\u001b[0m\u001b[0;34m\u001b[0m\u001b[0m\n",
      "\u001b[0;32m/opt/conda/lib/python3.9/site-packages/geopy/point.py\u001b[0m in \u001b[0;36m__new__\u001b[0;34m(cls, latitude, longitude, altitude)\u001b[0m\n\u001b[1;32m    173\u001b[0m                     )\n\u001b[1;32m    174\u001b[0m                 \u001b[0;32melse\u001b[0m\u001b[0;34m:\u001b[0m\u001b[0;34m\u001b[0m\u001b[0;34m\u001b[0m\u001b[0m\n\u001b[0;32m--> 175\u001b[0;31m                     \u001b[0;32mreturn\u001b[0m \u001b[0mcls\u001b[0m\u001b[0;34m.\u001b[0m\u001b[0mfrom_sequence\u001b[0m\u001b[0;34m(\u001b[0m\u001b[0mseq\u001b[0m\u001b[0;34m)\u001b[0m\u001b[0;34m\u001b[0m\u001b[0;34m\u001b[0m\u001b[0m\n\u001b[0m\u001b[1;32m    176\u001b[0m \u001b[0;34m\u001b[0m\u001b[0m\n\u001b[1;32m    177\u001b[0m         \u001b[0;32mif\u001b[0m \u001b[0msingle_arg\u001b[0m\u001b[0;34m:\u001b[0m\u001b[0;34m\u001b[0m\u001b[0;34m\u001b[0m\u001b[0m\n",
      "\u001b[0;32m/opt/conda/lib/python3.9/site-packages/geopy/point.py\u001b[0m in \u001b[0;36mfrom_sequence\u001b[0;34m(cls, seq)\u001b[0m\n\u001b[1;32m    470\u001b[0m             raise ValueError('When creating a Point from sequence, it '\n\u001b[1;32m    471\u001b[0m                              'must not have more than 3 items.')\n\u001b[0;32m--> 472\u001b[0;31m         \u001b[0;32mreturn\u001b[0m \u001b[0mcls\u001b[0m\u001b[0;34m(\u001b[0m\u001b[0;34m*\u001b[0m\u001b[0margs\u001b[0m\u001b[0;34m)\u001b[0m\u001b[0;34m\u001b[0m\u001b[0;34m\u001b[0m\u001b[0m\n\u001b[0m\u001b[1;32m    473\u001b[0m \u001b[0;34m\u001b[0m\u001b[0m\n\u001b[1;32m    474\u001b[0m     \u001b[0;34m@\u001b[0m\u001b[0mclassmethod\u001b[0m\u001b[0;34m\u001b[0m\u001b[0;34m\u001b[0m\u001b[0m\n",
      "\u001b[0;32m/opt/conda/lib/python3.9/site-packages/geopy/point.py\u001b[0m in \u001b[0;36m__new__\u001b[0;34m(cls, latitude, longitude, altitude)\u001b[0m\n\u001b[1;32m    186\u001b[0m \u001b[0;34m\u001b[0m\u001b[0m\n\u001b[1;32m    187\u001b[0m         \u001b[0mlatitude\u001b[0m\u001b[0;34m,\u001b[0m \u001b[0mlongitude\u001b[0m\u001b[0;34m,\u001b[0m \u001b[0maltitude\u001b[0m \u001b[0;34m=\u001b[0m\u001b[0;31m \u001b[0m\u001b[0;31m\\\u001b[0m\u001b[0;34m\u001b[0m\u001b[0;34m\u001b[0m\u001b[0m\n\u001b[0;32m--> 188\u001b[0;31m             \u001b[0m_normalize_coordinates\u001b[0m\u001b[0;34m(\u001b[0m\u001b[0mlatitude\u001b[0m\u001b[0;34m,\u001b[0m \u001b[0mlongitude\u001b[0m\u001b[0;34m,\u001b[0m \u001b[0maltitude\u001b[0m\u001b[0;34m)\u001b[0m\u001b[0;34m\u001b[0m\u001b[0;34m\u001b[0m\u001b[0m\n\u001b[0m\u001b[1;32m    189\u001b[0m \u001b[0;34m\u001b[0m\u001b[0m\n\u001b[1;32m    190\u001b[0m         \u001b[0mself\u001b[0m \u001b[0;34m=\u001b[0m \u001b[0msuper\u001b[0m\u001b[0;34m(\u001b[0m\u001b[0;34m)\u001b[0m\u001b[0;34m.\u001b[0m\u001b[0m__new__\u001b[0m\u001b[0;34m(\u001b[0m\u001b[0mcls\u001b[0m\u001b[0;34m)\u001b[0m\u001b[0;34m\u001b[0m\u001b[0;34m\u001b[0m\u001b[0m\n",
      "\u001b[0;32m/opt/conda/lib/python3.9/site-packages/geopy/point.py\u001b[0m in \u001b[0;36m_normalize_coordinates\u001b[0;34m(latitude, longitude, altitude)\u001b[0m\n\u001b[1;32m     55\u001b[0m \u001b[0;34m\u001b[0m\u001b[0m\n\u001b[1;32m     56\u001b[0m \u001b[0;32mdef\u001b[0m \u001b[0m_normalize_coordinates\u001b[0m\u001b[0;34m(\u001b[0m\u001b[0mlatitude\u001b[0m\u001b[0;34m,\u001b[0m \u001b[0mlongitude\u001b[0m\u001b[0;34m,\u001b[0m \u001b[0maltitude\u001b[0m\u001b[0;34m)\u001b[0m\u001b[0;34m:\u001b[0m\u001b[0;34m\u001b[0m\u001b[0;34m\u001b[0m\u001b[0m\n\u001b[0;32m---> 57\u001b[0;31m     \u001b[0mlatitude\u001b[0m \u001b[0;34m=\u001b[0m \u001b[0mfloat\u001b[0m\u001b[0;34m(\u001b[0m\u001b[0mlatitude\u001b[0m \u001b[0;32mor\u001b[0m \u001b[0;36m0.0\u001b[0m\u001b[0;34m)\u001b[0m\u001b[0;34m\u001b[0m\u001b[0;34m\u001b[0m\u001b[0m\n\u001b[0m\u001b[1;32m     58\u001b[0m     \u001b[0mlongitude\u001b[0m \u001b[0;34m=\u001b[0m \u001b[0mfloat\u001b[0m\u001b[0;34m(\u001b[0m\u001b[0mlongitude\u001b[0m \u001b[0;32mor\u001b[0m \u001b[0;36m0.0\u001b[0m\u001b[0;34m)\u001b[0m\u001b[0;34m\u001b[0m\u001b[0;34m\u001b[0m\u001b[0m\n\u001b[1;32m     59\u001b[0m     \u001b[0maltitude\u001b[0m \u001b[0;34m=\u001b[0m \u001b[0mfloat\u001b[0m\u001b[0;34m(\u001b[0m\u001b[0maltitude\u001b[0m \u001b[0;32mor\u001b[0m \u001b[0;36m0.0\u001b[0m\u001b[0;34m)\u001b[0m\u001b[0;34m\u001b[0m\u001b[0;34m\u001b[0m\u001b[0m\n",
      "\u001b[0;31mValueError\u001b[0m: could not convert string to float: 'Latitude'"
     ]
    }
   ],
   "source": [
    "df.withColumn(\"distance\", distance.distance(('Latitude', 'Longitude'), ('lat', 'lon')).km).show()"
   ]
  },
  {
   "cell_type": "code",
   "execution_count": 41,
   "id": "2f2d64aa",
   "metadata": {},
   "outputs": [
    {
     "data": {
      "text/plain": [
       "'/home/jovyan'"
      ]
     },
     "execution_count": 41,
     "metadata": {},
     "output_type": "execute_result"
    }
   ],
   "source": [
    "pwd()"
   ]
  },
  {
   "cell_type": "code",
   "execution_count": 14,
   "id": "e0a8f058",
   "metadata": {},
   "outputs": [
    {
     "name": "stdout",
     "output_type": "stream",
     "text": [
      "279.35290160430094\n"
     ]
    }
   ],
   "source": [
    "coords_1 = (52.2296756, 21.0122287)\n",
    "coords_2 = (52.406374, 16.9251681)\n",
    "\n",
    "print(distance.distance(coords_1, coords_2).km)"
   ]
  }
 ],
 "metadata": {
  "kernelspec": {
   "display_name": "Python 3",
   "language": "python",
   "name": "python3"
  },
  "language_info": {
   "codemirror_mode": {
    "name": "ipython",
    "version": 3
   },
   "file_extension": ".py",
   "mimetype": "text/x-python",
   "name": "python",
   "nbconvert_exporter": "python",
   "pygments_lexer": "ipython3",
   "version": "3.9.4"
  }
 },
 "nbformat": 4,
 "nbformat_minor": 5
}
